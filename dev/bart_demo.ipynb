{
 "cells": [
  {
   "cell_type": "code",
   "execution_count": null,
   "metadata": {},
   "outputs": [],
   "source": [
    "import bart\n",
    "import datetime as dt"
   ]
  },
  {
   "cell_type": "code",
   "execution_count": null,
   "metadata": {},
   "outputs": [],
   "source": [
    "## Choose a feed to test, and uncomment it.\n",
    "# TEST_FEED_ID = '14439' # Travis County, Austin, TX\n",
    "# TEST_FEED_ID = '18812' # Fulton County, Atlanta, GA\n",
    "# TEST_FEED_ID = '19807' # Lackawanna County, Scranton, PA"
   ]
  },
  {
   "cell_type": "code",
   "execution_count": null,
   "metadata": {},
   "outputs": [],
   "source": [
    "## Specify (1) a path to your pwd.ini file and (2) a username and password in the pwd.ini file.\n",
    "\n",
    "## OR\n",
    "\n",
    "## Enter a username & password for a valid Broadcastify premium account below\n",
    "\n",
    "USERNAME = None\n",
    "PASSWORD = None"
   ]
  },
  {
   "cell_type": "code",
   "execution_count": null,
   "metadata": {},
   "outputs": [],
   "source": [
    "# Instantiate BArT\n",
    "archive = bart.BroadcastifyArchive(TEST_FEED_ID, USERNAME, PASSWORD)"
   ]
  },
  {
   "cell_type": "code",
   "execution_count": null,
   "metadata": {},
   "outputs": [],
   "source": [
    "# Build the archive for 3-10 days ago\n",
    "start_date = (dt.datetime.now() - dt.timedelta(days=10)).date()\n",
    "end_date = (dt.datetime.now() - dt.timedelta(days=3)).date()\n",
    "\n",
    "archive.build(start=start_date, end=end_date)"
   ]
  },
  {
   "cell_type": "code",
   "execution_count": null,
   "metadata": {},
   "outputs": [],
   "source": [
    "# Download the mp3s for 10p-2a starting on the second-to-last day of the archive \n",
    "start_time = dt.datetime.combine(end_date - dt.timedelta(days=1), dt.datetime(1,1,1,22,0).time())\n",
    "end_time = dt.datetime.combine(end_date, dt.datetime(1,1,1,2,0).time())\n",
    "\n",
    "# Add a valid path on your computer to store the MP3 files\n",
    "# Start and end the path with slash (/)\n",
    "archive.download(start=start_time, end=end_time, output_path='/ ADD PATH HERE /')"
   ]
  },
  {
   "cell_type": "code",
   "execution_count": null,
   "metadata": {},
   "outputs": [],
   "source": [
    "# Change the feed_id\n",
    "# TEST_FEED_ID = '14439' # Travis County, Austin, TX\n",
    "# TEST_FEED_ID = '18812' # Fulton County, Atlanta, GA -- home precinct\n",
    "# TEST_FEED_ID = '19807' # Lackawanna County, Scranton, PA -- GREAT SCOTT!\n",
    "archive.feed_id = \n",
    "archive"
   ]
  },
  {
   "cell_type": "markdown",
   "metadata": {},
   "source": [
    "----"
   ]
  }
 ],
 "metadata": {
  "kernelspec": {
   "display_name": "Python 3",
   "language": "python",
   "name": "python3"
  },
  "language_info": {
   "codemirror_mode": {
    "name": "ipython",
    "version": 3
   },
   "file_extension": ".py",
   "mimetype": "text/x-python",
   "name": "python",
   "nbconvert_exporter": "python",
   "pygments_lexer": "ipython3",
   "version": "3.7.3"
  },
  "toc": {
   "base_numbering": 1,
   "nav_menu": {},
   "number_sections": false,
   "sideBar": true,
   "skip_h1_title": true,
   "title_cell": "Table of Contents",
   "title_sidebar": "Contents",
   "toc_cell": false,
   "toc_position": {},
   "toc_section_display": true,
   "toc_window_display": false
  },
  "varInspector": {
   "cols": {
    "lenName": 16,
    "lenType": 16,
    "lenVar": 40
   },
   "kernels_config": {
    "python": {
     "delete_cmd_postfix": "",
     "delete_cmd_prefix": "del ",
     "library": "var_list.py",
     "varRefreshCmd": "print(var_dic_list())"
    },
    "r": {
     "delete_cmd_postfix": ") ",
     "delete_cmd_prefix": "rm(",
     "library": "var_list.r",
     "varRefreshCmd": "cat(var_dic_list()) "
    }
   },
   "types_to_exclude": [
    "module",
    "function",
    "builtin_function_or_method",
    "instance",
    "_Feature"
   ],
   "window_display": false
  }
 },
 "nbformat": 4,
 "nbformat_minor": 2
}
