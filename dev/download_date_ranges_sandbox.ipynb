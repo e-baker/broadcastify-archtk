{
 "cells": [
  {
   "cell_type": "code",
   "execution_count": 1,
   "metadata": {},
   "outputs": [],
   "source": [
    "import bart_v1\n",
    "from datetime import datetime"
   ]
  },
  {
   "cell_type": "code",
   "execution_count": 2,
   "metadata": {},
   "outputs": [],
   "source": [
    "# TEST_FEED_ID = '763' # \"This is Sgt. Peterson, Chicago Police\" (top listened-to feed!)\n",
    "# TEST_FEED_ID = '14439' # Travis County, Austin, TX\n",
    "TEST_FEED_ID = '18812' # Fulton County, Atlanta, GA\n",
    "# TEST_FEED_ID = '19807' # Lackawanna County, Scranton, PA"
   ]
  },
  {
   "cell_type": "code",
   "execution_count": 3,
   "metadata": {},
   "outputs": [],
   "source": [
    "archive = bart_v1.BroadcastifyArchive(TEST_FEED_ID)"
   ]
  },
  {
   "cell_type": "code",
   "execution_count": 4,
   "metadata": {
    "code_folding": []
   },
   "outputs": [],
   "source": [
    "# # Import pickle\n",
    "\n",
    "# import pickle\n",
    "# with open('testing/sample_archive_entries.pkl', 'rb') as pickle_in:\n",
    "#     sample_archive_entries = pickle.load(pickle_in)\n",
    "    \n",
    "# archive.entries = sample_archive_entries"
   ]
  },
  {
   "cell_type": "code",
   "execution_count": 5,
   "metadata": {
    "scrolled": false
   },
   "outputs": [
    {
     "data": {
      "text/plain": [
       "BroadcastifyArchive\n",
       " (Feed ID = 18812\n",
       "  Feed Name = Atlanta Police Zone 5 and Fire Dispatch\n",
       "  Feed URL = \"https://www.broadcastify.com/listen/feed/18812\"\n",
       "  Archive URL = \"https://www.broadcastify.com/archives/feed/18812\"\n",
       "  Start Date: None\n",
       "  End Date:   None\n",
       "  Username = \"cwchiu\" Password = [True]\n",
       "  Verbose = True  0 archive entries\n",
       ")"
      ]
     },
     "execution_count": 5,
     "metadata": {},
     "output_type": "execute_result"
    }
   ],
   "source": [
    "archive"
   ]
  },
  {
   "cell_type": "code",
   "execution_count": 6,
   "metadata": {},
   "outputs": [],
   "source": [
    "archive.show_browser_ui = False"
   ]
  },
  {
   "cell_type": "code",
   "execution_count": 7,
   "metadata": {
    "scrolled": false
   },
   "outputs": [
    {
     "name": "stdout",
     "output_type": "stream",
     "text": [
      "Archive build complete.\n",
      "\n",
      "BroadcastifyArchive\n",
      " (Feed ID = 18812\n",
      "  Feed Name = Atlanta Police Zone 5 and Fire Dispatch\n",
      "  Feed URL = \"https://www.broadcastify.com/listen/feed/18812\"\n",
      "  Archive URL = \"https://www.broadcastify.com/archives/feed/18812\"\n",
      "  Start Date: 2019-01-28\n",
      "  End Date:   2019-10-29\n",
      "  Username = \"cwchiu\" Password = [True]\n",
      "  Verbose = True  48 archive entries\n",
      ")\n"
     ]
    }
   ],
   "source": [
    "archive.build(1)"
   ]
  },
  {
   "cell_type": "code",
   "execution_count": null,
   "metadata": {},
   "outputs": [],
   "source": [
    "# archive.download(start=datetime(2019,10,27,20,0), end=datetime(2019,10,27,22,0))"
   ]
  },
  {
   "cell_type": "markdown",
   "metadata": {},
   "source": [
    "---"
   ]
  },
  {
   "cell_type": "code",
   "execution_count": 8,
   "metadata": {},
   "outputs": [
    {
     "data": {
      "text/plain": [
       "[{'feed_id': '18812',\n",
       "  'uri': '804244011',\n",
       "  'start_time': datetime.datetime(2019, 10, 29, 11, 19),\n",
       "  'end_time': datetime.datetime(2019, 10, 29, 11, 49)},\n",
       " {'feed_id': '18812',\n",
       "  'uri': '804236329',\n",
       "  'start_time': datetime.datetime(2019, 10, 29, 10, 49),\n",
       "  'end_time': datetime.datetime(2019, 10, 29, 11, 19)},\n",
       " {'feed_id': '18812',\n",
       "  'uri': '804230460',\n",
       "  'start_time': datetime.datetime(2019, 10, 29, 10, 19),\n",
       "  'end_time': datetime.datetime(2019, 10, 29, 10, 49)},\n",
       " {'feed_id': '18812',\n",
       "  'uri': '804222372',\n",
       "  'start_time': datetime.datetime(2019, 10, 29, 9, 49),\n",
       "  'end_time': datetime.datetime(2019, 10, 29, 10, 19)},\n",
       " {'feed_id': '18812',\n",
       "  'uri': '804216273',\n",
       "  'start_time': datetime.datetime(2019, 10, 29, 9, 20),\n",
       "  'end_time': datetime.datetime(2019, 10, 29, 9, 50)},\n",
       " {'feed_id': '18812',\n",
       "  'uri': '804210070',\n",
       "  'start_time': datetime.datetime(2019, 10, 29, 8, 50),\n",
       "  'end_time': datetime.datetime(2019, 10, 29, 9, 20)},\n",
       " {'feed_id': '18812',\n",
       "  'uri': '804202725',\n",
       "  'start_time': datetime.datetime(2019, 10, 29, 8, 20),\n",
       "  'end_time': datetime.datetime(2019, 10, 29, 8, 50)},\n",
       " {'feed_id': '18812',\n",
       "  'uri': '804195521',\n",
       "  'start_time': datetime.datetime(2019, 10, 29, 7, 50),\n",
       "  'end_time': datetime.datetime(2019, 10, 29, 8, 20)},\n",
       " {'feed_id': '18812',\n",
       "  'uri': '804190331',\n",
       "  'start_time': datetime.datetime(2019, 10, 29, 7, 20),\n",
       "  'end_time': datetime.datetime(2019, 10, 29, 7, 50)},\n",
       " {'feed_id': '18812',\n",
       "  'uri': '804182329',\n",
       "  'start_time': datetime.datetime(2019, 10, 29, 6, 50),\n",
       "  'end_time': datetime.datetime(2019, 10, 29, 7, 20)},\n",
       " {'feed_id': '18812',\n",
       "  'uri': '804176967',\n",
       "  'start_time': datetime.datetime(2019, 10, 29, 6, 21),\n",
       "  'end_time': datetime.datetime(2019, 10, 29, 6, 51)},\n",
       " {'feed_id': '18812',\n",
       "  'uri': '804170245',\n",
       "  'start_time': datetime.datetime(2019, 10, 29, 5, 51),\n",
       "  'end_time': datetime.datetime(2019, 10, 29, 6, 21)},\n",
       " {'feed_id': '18812',\n",
       "  'uri': '804162407',\n",
       "  'start_time': datetime.datetime(2019, 10, 29, 5, 21),\n",
       "  'end_time': datetime.datetime(2019, 10, 29, 5, 51)},\n",
       " {'feed_id': '18812',\n",
       "  'uri': '804156255',\n",
       "  'start_time': datetime.datetime(2019, 10, 29, 4, 51),\n",
       "  'end_time': datetime.datetime(2019, 10, 29, 5, 21)},\n",
       " {'feed_id': '18812',\n",
       "  'uri': '804148553',\n",
       "  'start_time': datetime.datetime(2019, 10, 29, 4, 21),\n",
       "  'end_time': datetime.datetime(2019, 10, 29, 4, 51)},\n",
       " {'feed_id': '18812',\n",
       "  'uri': '804142963',\n",
       "  'start_time': datetime.datetime(2019, 10, 29, 3, 51),\n",
       "  'end_time': datetime.datetime(2019, 10, 29, 4, 21)},\n",
       " {'feed_id': '18812',\n",
       "  'uri': '804136601',\n",
       "  'start_time': datetime.datetime(2019, 10, 29, 3, 22),\n",
       "  'end_time': datetime.datetime(2019, 10, 29, 3, 52)},\n",
       " {'feed_id': '18812',\n",
       "  'uri': '804129089',\n",
       "  'start_time': datetime.datetime(2019, 10, 29, 2, 52),\n",
       "  'end_time': datetime.datetime(2019, 10, 29, 3, 22)},\n",
       " {'feed_id': '18812',\n",
       "  'uri': '804122578',\n",
       "  'start_time': datetime.datetime(2019, 10, 29, 2, 22),\n",
       "  'end_time': datetime.datetime(2019, 10, 29, 2, 52)},\n",
       " {'feed_id': '18812',\n",
       "  'uri': '804116390',\n",
       "  'start_time': datetime.datetime(2019, 10, 29, 1, 52),\n",
       "  'end_time': datetime.datetime(2019, 10, 29, 2, 22)},\n",
       " {'feed_id': '18812',\n",
       "  'uri': '804108366',\n",
       "  'start_time': datetime.datetime(2019, 10, 29, 1, 22),\n",
       "  'end_time': datetime.datetime(2019, 10, 29, 1, 52)},\n",
       " {'feed_id': '18812',\n",
       "  'uri': '804102995',\n",
       "  'start_time': datetime.datetime(2019, 10, 29, 0, 52),\n",
       "  'end_time': datetime.datetime(2019, 10, 29, 1, 22)},\n",
       " {'feed_id': '18812',\n",
       "  'uri': '804095248',\n",
       "  'start_time': datetime.datetime(2019, 10, 29, 0, 23),\n",
       "  'end_time': datetime.datetime(2019, 10, 29, 0, 53)},\n",
       " {'feed_id': '18812',\n",
       "  'uri': '804088378',\n",
       "  'start_time': datetime.datetime(2019, 10, 28, 23, 53),\n",
       "  'end_time': datetime.datetime(2019, 10, 29, 0, 23)},\n",
       " {'feed_id': '18812',\n",
       "  'uri': '804244011',\n",
       "  'start_time': datetime.datetime(2019, 10, 28, 11, 19),\n",
       "  'end_time': datetime.datetime(2019, 10, 28, 11, 49)},\n",
       " {'feed_id': '18812',\n",
       "  'uri': '804236329',\n",
       "  'start_time': datetime.datetime(2019, 10, 28, 10, 49),\n",
       "  'end_time': datetime.datetime(2019, 10, 28, 11, 19)},\n",
       " {'feed_id': '18812',\n",
       "  'uri': '804230460',\n",
       "  'start_time': datetime.datetime(2019, 10, 28, 10, 19),\n",
       "  'end_time': datetime.datetime(2019, 10, 28, 10, 49)},\n",
       " {'feed_id': '18812',\n",
       "  'uri': '804222372',\n",
       "  'start_time': datetime.datetime(2019, 10, 28, 9, 49),\n",
       "  'end_time': datetime.datetime(2019, 10, 28, 10, 19)},\n",
       " {'feed_id': '18812',\n",
       "  'uri': '804216273',\n",
       "  'start_time': datetime.datetime(2019, 10, 28, 9, 20),\n",
       "  'end_time': datetime.datetime(2019, 10, 28, 9, 50)},\n",
       " {'feed_id': '18812',\n",
       "  'uri': '804210070',\n",
       "  'start_time': datetime.datetime(2019, 10, 28, 8, 50),\n",
       "  'end_time': datetime.datetime(2019, 10, 28, 9, 20)},\n",
       " {'feed_id': '18812',\n",
       "  'uri': '804202725',\n",
       "  'start_time': datetime.datetime(2019, 10, 28, 8, 20),\n",
       "  'end_time': datetime.datetime(2019, 10, 28, 8, 50)},\n",
       " {'feed_id': '18812',\n",
       "  'uri': '804195521',\n",
       "  'start_time': datetime.datetime(2019, 10, 28, 7, 50),\n",
       "  'end_time': datetime.datetime(2019, 10, 28, 8, 20)},\n",
       " {'feed_id': '18812',\n",
       "  'uri': '804190331',\n",
       "  'start_time': datetime.datetime(2019, 10, 28, 7, 20),\n",
       "  'end_time': datetime.datetime(2019, 10, 28, 7, 50)},\n",
       " {'feed_id': '18812',\n",
       "  'uri': '804182329',\n",
       "  'start_time': datetime.datetime(2019, 10, 28, 6, 50),\n",
       "  'end_time': datetime.datetime(2019, 10, 28, 7, 20)},\n",
       " {'feed_id': '18812',\n",
       "  'uri': '804176967',\n",
       "  'start_time': datetime.datetime(2019, 10, 28, 6, 21),\n",
       "  'end_time': datetime.datetime(2019, 10, 28, 6, 51)},\n",
       " {'feed_id': '18812',\n",
       "  'uri': '804170245',\n",
       "  'start_time': datetime.datetime(2019, 10, 28, 5, 51),\n",
       "  'end_time': datetime.datetime(2019, 10, 28, 6, 21)},\n",
       " {'feed_id': '18812',\n",
       "  'uri': '804162407',\n",
       "  'start_time': datetime.datetime(2019, 10, 28, 5, 21),\n",
       "  'end_time': datetime.datetime(2019, 10, 28, 5, 51)},\n",
       " {'feed_id': '18812',\n",
       "  'uri': '804156255',\n",
       "  'start_time': datetime.datetime(2019, 10, 28, 4, 51),\n",
       "  'end_time': datetime.datetime(2019, 10, 28, 5, 21)},\n",
       " {'feed_id': '18812',\n",
       "  'uri': '804148553',\n",
       "  'start_time': datetime.datetime(2019, 10, 28, 4, 21),\n",
       "  'end_time': datetime.datetime(2019, 10, 28, 4, 51)},\n",
       " {'feed_id': '18812',\n",
       "  'uri': '804142963',\n",
       "  'start_time': datetime.datetime(2019, 10, 28, 3, 51),\n",
       "  'end_time': datetime.datetime(2019, 10, 28, 4, 21)},\n",
       " {'feed_id': '18812',\n",
       "  'uri': '804136601',\n",
       "  'start_time': datetime.datetime(2019, 10, 28, 3, 22),\n",
       "  'end_time': datetime.datetime(2019, 10, 28, 3, 52)},\n",
       " {'feed_id': '18812',\n",
       "  'uri': '804129089',\n",
       "  'start_time': datetime.datetime(2019, 10, 28, 2, 52),\n",
       "  'end_time': datetime.datetime(2019, 10, 28, 3, 22)},\n",
       " {'feed_id': '18812',\n",
       "  'uri': '804122578',\n",
       "  'start_time': datetime.datetime(2019, 10, 28, 2, 22),\n",
       "  'end_time': datetime.datetime(2019, 10, 28, 2, 52)},\n",
       " {'feed_id': '18812',\n",
       "  'uri': '804116390',\n",
       "  'start_time': datetime.datetime(2019, 10, 28, 1, 52),\n",
       "  'end_time': datetime.datetime(2019, 10, 28, 2, 22)},\n",
       " {'feed_id': '18812',\n",
       "  'uri': '804108366',\n",
       "  'start_time': datetime.datetime(2019, 10, 28, 1, 22),\n",
       "  'end_time': datetime.datetime(2019, 10, 28, 1, 52)},\n",
       " {'feed_id': '18812',\n",
       "  'uri': '804102995',\n",
       "  'start_time': datetime.datetime(2019, 10, 28, 0, 52),\n",
       "  'end_time': datetime.datetime(2019, 10, 28, 1, 22)},\n",
       " {'feed_id': '18812',\n",
       "  'uri': '804095248',\n",
       "  'start_time': datetime.datetime(2019, 10, 28, 0, 23),\n",
       "  'end_time': datetime.datetime(2019, 10, 28, 0, 53)},\n",
       " {'feed_id': '18812',\n",
       "  'uri': '804088378',\n",
       "  'start_time': datetime.datetime(2019, 10, 27, 23, 53),\n",
       "  'end_time': datetime.datetime(2019, 10, 28, 0, 23)}]"
      ]
     },
     "execution_count": 8,
     "metadata": {},
     "output_type": "execute_result"
    }
   ],
   "source": [
    "archive.entries"
   ]
  },
  {
   "cell_type": "code",
   "execution_count": 13,
   "metadata": {},
   "outputs": [],
   "source": [
    "date_filters = [\n",
    "    (datetime(2019, 10, 27, 12, 0), datetime(2019, 10, 28, 2, 0)),\n",
    "    (datetime(2019, 10, 28, 5, 0), datetime(2019, 10, 28, 7, 0)),\n",
    "    (datetime(2019, 10, 29, 9, 0), None)\n",
    "]"
   ]
  },
  {
   "cell_type": "code",
   "execution_count": 24,
   "metadata": {},
   "outputs": [
    {
     "name": "stdout",
     "output_type": "stream",
     "text": [
      "804108366 2019-10-28 01:22:00 2019-10-28 01:52:00\n",
      "804102995 2019-10-28 00:52:00 2019-10-28 01:22:00\n",
      "804095248 2019-10-28 00:23:00 2019-10-28 00:53:00\n",
      "804088378 2019-10-27 23:53:00 2019-10-28 00:23:00\n",
      "\n",
      "804176967 2019-10-28 06:21:00 2019-10-28 06:51:00\n",
      "804170245 2019-10-28 05:51:00 2019-10-28 06:21:00\n",
      "804162407 2019-10-28 05:21:00 2019-10-28 05:51:00\n",
      "\n",
      "804244011 2019-10-29 11:19:00 2019-10-29 11:49:00\n",
      "804236329 2019-10-29 10:49:00 2019-10-29 11:19:00\n",
      "804230460 2019-10-29 10:19:00 2019-10-29 10:49:00\n",
      "804222372 2019-10-29 09:49:00 2019-10-29 10:19:00\n",
      "804216273 2019-10-29 09:20:00 2019-10-29 09:50:00\n",
      "\n"
     ]
    }
   ],
   "source": [
    "for filter_start, filter_end in date_filters:\n",
    "    if not(filter_start): \n",
    "        filter_start = datetime.combine(archive.start_date, datetime(1,1,1,0,0).time())\n",
    "    if not(filter_end): \n",
    "        filter_end = datetime.combine(archive.end_date, datetime(1,1,1,23,59).time())\n",
    "\n",
    "    for entry in archive.entries:\n",
    "        if (entry['start_time'] >= filter_start and\n",
    "            entry['end_time'] <= filter_end):\n",
    "                print(entry['uri'], entry['start_time'], entry['end_time'])\n",
    "    print()"
   ]
  },
  {
   "cell_type": "code",
   "execution_count": null,
   "metadata": {},
   "outputs": [],
   "source": []
  },
  {
   "cell_type": "code",
   "execution_count": null,
   "metadata": {},
   "outputs": [],
   "source": []
  },
  {
   "cell_type": "code",
   "execution_count": null,
   "metadata": {},
   "outputs": [],
   "source": []
  },
  {
   "cell_type": "code",
   "execution_count": null,
   "metadata": {},
   "outputs": [],
   "source": []
  },
  {
   "cell_type": "code",
   "execution_count": null,
   "metadata": {},
   "outputs": [],
   "source": []
  },
  {
   "cell_type": "code",
   "execution_count": null,
   "metadata": {},
   "outputs": [],
   "source": [
    "time = ['11:57 PM', '12:28 AM']\n",
    "hhmm_start, hhmm_end = [datetime.strptime(each, '%I:%M %p') for each in time]\n",
    "hhmm_start > hhmm_end"
   ]
  },
  {
   "cell_type": "code",
   "execution_count": null,
   "metadata": {
    "scrolled": true
   },
   "outputs": [],
   "source": [
    "print(datetime(2019, 10, 29, 2, 22).time() > datetime(2019, 10, 29, 3, 22).time())\n",
    "datetime(2019, 10, 29, 23, 53).time() > datetime(1, 11, 1, 0, 0).time()"
   ]
  },
  {
   "cell_type": "code",
   "execution_count": null,
   "metadata": {},
   "outputs": [],
   "source": [
    "isinstance(datetime(2019,10,31), datetime)"
   ]
  },
  {
   "cell_type": "code",
   "execution_count": null,
   "metadata": {},
   "outputs": [],
   "source": [
    "start = None\n",
    "date = datetime.now().date()\n",
    "\n",
    "print(start, date)\n",
    "if start: print('yep') \n",
    "else: print('nope')"
   ]
  },
  {
   "cell_type": "code",
   "execution_count": null,
   "metadata": {},
   "outputs": [],
   "source": [
    "not(start)"
   ]
  },
  {
   "cell_type": "code",
   "execution_count": null,
   "metadata": {},
   "outputs": [],
   "source": [
    "print(archive._an.active_date)\n",
    "\n",
    "archive._an.show_browser_ui = True\n",
    "archive._an.open_browser()\n",
    "archive._an.browser.get(archive._an.url)"
   ]
  },
  {
   "cell_type": "code",
   "execution_count": null,
   "metadata": {},
   "outputs": [],
   "source": [
    "archive._an.navigate_to_date(datetime(2019,3,31).date())"
   ]
  },
  {
   "cell_type": "code",
   "execution_count": null,
   "metadata": {},
   "outputs": [],
   "source": [
    "archive._an.navigate_to_date(datetime(2019,1,31).date())"
   ]
  },
  {
   "cell_type": "code",
   "execution_count": null,
   "metadata": {},
   "outputs": [],
   "source": [
    "archive._an.navigate_to_date(datetime(2019,1,28).date())"
   ]
  },
  {
   "cell_type": "code",
   "execution_count": null,
   "metadata": {},
   "outputs": [],
   "source": [
    "archive._an.navigate_to_date(datetime(2019,10,28).date())"
   ]
  },
  {
   "cell_type": "code",
   "execution_count": null,
   "metadata": {},
   "outputs": [],
   "source": [
    "archive._an.navigate_to_date(datetime(2018,10,28).date())"
   ]
  },
  {
   "cell_type": "code",
   "execution_count": null,
   "metadata": {},
   "outputs": [],
   "source": [
    "archive._an.navigate_to_date(datetime(2018,2,29).date())"
   ]
  },
  {
   "cell_type": "code",
   "execution_count": null,
   "metadata": {},
   "outputs": [],
   "source": [
    "archive._an.active_date = datetime(2019,10,28)\n",
    "print(archive._an.active_date)"
   ]
  },
  {
   "cell_type": "code",
   "execution_count": null,
   "metadata": {},
   "outputs": [],
   "source": [
    "archive._an.navigate_to_date(from_date=datetime(2019,1,28).date(), \n",
    "                             date=datetime(2019,10,28).date())"
   ]
  },
  {
   "cell_type": "code",
   "execution_count": null,
   "metadata": {},
   "outputs": [],
   "source": [
    "archive._an.active_date = datetime(2019, 10, 29)"
   ]
  },
  {
   "cell_type": "markdown",
   "metadata": {},
   "source": [
    "----"
   ]
  },
  {
   "cell_type": "code",
   "execution_count": null,
   "metadata": {
    "code_folding": []
   },
   "outputs": [],
   "source": [
    "# # Export pickle\n",
    "# #\n",
    "# import pickle\n",
    "\n",
    "# sample_archive_entries = archive.entries\n",
    "\n",
    "# with open('testing/sample_archive_entries.pkl','wb') as pickle_out:\n",
    "#     pickle.dump(sample_archive_entries, pickle_out)"
   ]
  },
  {
   "cell_type": "markdown",
   "metadata": {},
   "source": [
    "----"
   ]
  }
 ],
 "metadata": {
  "kernelspec": {
   "display_name": "Python 3",
   "language": "python",
   "name": "python3"
  },
  "language_info": {
   "codemirror_mode": {
    "name": "ipython",
    "version": 3
   },
   "file_extension": ".py",
   "mimetype": "text/x-python",
   "name": "python",
   "nbconvert_exporter": "python",
   "pygments_lexer": "ipython3",
   "version": "3.7.3"
  },
  "toc": {
   "base_numbering": 1,
   "nav_menu": {},
   "number_sections": false,
   "sideBar": true,
   "skip_h1_title": true,
   "title_cell": "Table of Contents",
   "title_sidebar": "Contents",
   "toc_cell": false,
   "toc_position": {},
   "toc_section_display": true,
   "toc_window_display": false
  },
  "varInspector": {
   "cols": {
    "lenName": 16,
    "lenType": 16,
    "lenVar": 40
   },
   "kernels_config": {
    "python": {
     "delete_cmd_postfix": "",
     "delete_cmd_prefix": "del ",
     "library": "var_list.py",
     "varRefreshCmd": "print(var_dic_list())"
    },
    "r": {
     "delete_cmd_postfix": ") ",
     "delete_cmd_prefix": "rm(",
     "library": "var_list.r",
     "varRefreshCmd": "cat(var_dic_list()) "
    }
   },
   "types_to_exclude": [
    "module",
    "function",
    "builtin_function_or_method",
    "instance",
    "_Feature"
   ],
   "window_display": false
  }
 },
 "nbformat": 4,
 "nbformat_minor": 2
}
