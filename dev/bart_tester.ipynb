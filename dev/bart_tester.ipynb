{
 "cells": [
  {
   "cell_type": "code",
   "execution_count": 1,
   "metadata": {},
   "outputs": [],
   "source": [
    "import sys\n",
    "import os\n",
    "sys.path.insert(1, '/Users/joseph/data_science/personal_projects/pyBArTOK/pybartok_distn/pybartok')"
   ]
  },
  {
   "cell_type": "code",
   "execution_count": 2,
   "metadata": {},
   "outputs": [],
   "source": [
    "import bart\n",
    "import datetime as dt"
   ]
  },
  {
   "cell_type": "code",
   "execution_count": 3,
   "metadata": {},
   "outputs": [],
   "source": [
    "# TEST_FEED_ID = '14439' # Travis County, Austin, TX\n",
    "TEST_FEED_ID = '18812' # Fulton County, Atlanta, GA (dates in March 2019 have no entries)\n",
    "# TEST_FEED_ID = '19807' # Lackawanna County, Scranton, PA (archive is no longer available)\n",
    "# TEST_FEED_ID = '198' # Invalid Feed ID"
   ]
  },
  {
   "cell_type": "code",
   "execution_count": 4,
   "metadata": {},
   "outputs": [
    {
     "name": "stdout",
     "output_type": "stream",
     "text": [
      "Initializing calendar navigation for Atlanta Police Zone 5 and Fire Dispatch...\n",
      "Initialization complete.\n",
      "\n",
      "BroadcastifyArchive\n",
      " (Feed ID = 18812\n",
      "  Feed Name = Atlanta Police Zone 5 and Fire Dispatch\n",
      "  Feed URL = \"https://www.broadcastify.com/listen/feed/18812\"\n",
      "  Archive URL = \"https://www.broadcastify.com/archives/feed/18812\"\n",
      "  Start Date: 2019-01-28\n",
      "  End Date:   2019-11-05\n",
      "  Username = \"cwchiu\" Password = [True]\n",
      "  0 built archive entries \n",
      "  Verbose = True)\n"
     ]
    }
   ],
   "source": [
    "archive = bart.BroadcastifyArchive(TEST_FEED_ID)"
   ]
  },
  {
   "cell_type": "code",
   "execution_count": null,
   "metadata": {
    "scrolled": false
   },
   "outputs": [],
   "source": [
    "archive.build(start=dt.datetime(2019, 3, 17).date(), end=dt.datetime(2019, 3, 23).date(), rebuild=True)"
   ]
  },
  {
   "cell_type": "code",
   "execution_count": null,
   "metadata": {},
   "outputs": [],
   "source": [
    "archive.download(start=dt.datetime(2019,10,31,20,0), end=dt.datetime(2019,11,1,2,0))"
   ]
  },
  {
   "cell_type": "markdown",
   "metadata": {},
   "source": [
    "---"
   ]
  },
  {
   "cell_type": "code",
   "execution_count": null,
   "metadata": {},
   "outputs": [],
   "source": [
    "archive"
   ]
  },
  {
   "cell_type": "code",
   "execution_count": null,
   "metadata": {},
   "outputs": [],
   "source": [
    "archive.feed_id = TEST_FEED_ID = '18812'"
   ]
  },
  {
   "cell_type": "markdown",
   "metadata": {},
   "source": [
    "----"
   ]
  },
  {
   "cell_type": "code",
   "execution_count": null,
   "metadata": {
    "code_folding": []
   },
   "outputs": [],
   "source": [
    "# # Export pickle\n",
    "# #\n",
    "# import pickle\n",
    "\n",
    "# sample_archive_entries = archive.entries\n",
    "\n",
    "# with open('testing/sample_archive_entries.pkl','wb') as pickle_out:\n",
    "#     pickle.dump(sample_archive_entries, pickle_out)"
   ]
  },
  {
   "cell_type": "code",
   "execution_count": null,
   "metadata": {
    "code_folding": []
   },
   "outputs": [],
   "source": [
    "# # Import pickle\n",
    "\n",
    "# import pickle\n",
    "# with open('testing/sample_archive_entries.pkl', 'rb') as pickle_in:\n",
    "#     sample_archive_entries = pickle.load(pickle_in)\n",
    "    \n",
    "# archive.entries = sample_archive_entries\n",
    "# archive.earliest_entry = min([entry['start_time'] for entry in archive.entries])\n",
    "# archive.latest_entry = max([entry['start_time'] for entry in archive.entries])"
   ]
  },
  {
   "cell_type": "markdown",
   "metadata": {},
   "source": [
    "----"
   ]
  }
 ],
 "metadata": {
  "kernelspec": {
   "display_name": "Python 3",
   "language": "python",
   "name": "python3"
  },
  "language_info": {
   "codemirror_mode": {
    "name": "ipython",
    "version": 3
   },
   "file_extension": ".py",
   "mimetype": "text/x-python",
   "name": "python",
   "nbconvert_exporter": "python",
   "pygments_lexer": "ipython3",
   "version": "3.7.3"
  },
  "toc": {
   "base_numbering": 1,
   "nav_menu": {},
   "number_sections": false,
   "sideBar": true,
   "skip_h1_title": true,
   "title_cell": "Table of Contents",
   "title_sidebar": "Contents",
   "toc_cell": false,
   "toc_position": {},
   "toc_section_display": true,
   "toc_window_display": false
  },
  "varInspector": {
   "cols": {
    "lenName": 16,
    "lenType": 16,
    "lenVar": 40
   },
   "kernels_config": {
    "python": {
     "delete_cmd_postfix": "",
     "delete_cmd_prefix": "del ",
     "library": "var_list.py",
     "varRefreshCmd": "print(var_dic_list())"
    },
    "r": {
     "delete_cmd_postfix": ") ",
     "delete_cmd_prefix": "rm(",
     "library": "var_list.r",
     "varRefreshCmd": "cat(var_dic_list()) "
    }
   },
   "types_to_exclude": [
    "module",
    "function",
    "builtin_function_or_method",
    "instance",
    "_Feature"
   ],
   "window_display": false
  }
 },
 "nbformat": 4,
 "nbformat_minor": 2
}
