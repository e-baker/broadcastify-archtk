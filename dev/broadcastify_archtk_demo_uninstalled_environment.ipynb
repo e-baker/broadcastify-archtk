{
 "cells": [
  {
   "cell_type": "markdown",
   "metadata": {},
   "source": [
    "# The Broadcastify Archive Toolkit for python\n",
    "# `broadcastify-archtk` Demo"
   ]
  },
  {
   "cell_type": "markdown",
   "metadata": {},
   "source": [
    "## Supply a Webdriver Path\n",
    "\n",
    "[User Guide: Installing the WebDriver](https://ljhopkins2.github.io/broadcastify-archtk/user-guide/installation.html#installing-the-webdriver)\n",
    "\n",
    "If your webdriver is saved in a directory in your operating system's `PATH` environment variable, you can leave this cell alone.\n",
    "\n",
    "If not, provide the path to the webdriver."
   ]
  },
  {
   "cell_type": "code",
   "execution_count": null,
   "metadata": {},
   "outputs": [],
   "source": [
    "webdriver_path = None"
   ]
  },
  {
   "cell_type": "markdown",
   "metadata": {},
   "source": [
    "## Import the Package\n",
    "\n",
    "[User Guide: Importing the package](https://ljhopkins2.github.io/broadcastify-archtk/user-guide/creating-an-archive.html#importing-the-package)"
   ]
  },
  {
   "cell_type": "code",
   "execution_count": null,
   "metadata": {},
   "outputs": [],
   "source": [
    "import sys\n",
    "import os\n",
    "sys.path.insert(1, '/Users/joseph/data_science/personal_projects/broadcastify-archtk/barchtk_distribution/')"
   ]
  },
  {
   "cell_type": "code",
   "execution_count": null,
   "metadata": {},
   "outputs": [],
   "source": [
    "import broadcastify_archtk.archive as btk\n",
    "import datetime as dt"
   ]
  },
  {
   "cell_type": "markdown",
   "metadata": {},
   "source": [
    "## Instantiate the Toolkit\n",
    "\n",
    "[User Guide: Instantiating the toolkit](https://ljhopkins2.github.io/broadcastify-archtk/user-guide/creating-an-archive.html#instantiating-the-toolkit)\n",
    "\n",
    "Choose a feed to test:\n",
    "- from https://www.broadcastify.com/listen/\n",
    "    - click through the map to a feed of your choice\n",
    "    - grad the `feed_id` from the URL (`www.broadcastify.com/listen/feed/[feed_id]`)\n",
    "- or from the list in the cell below"
   ]
  },
  {
   "cell_type": "code",
   "execution_count": null,
   "metadata": {},
   "outputs": [],
   "source": [
    "# TEST_FEED_ID = '14439' # Travis County, Austin, TX\n",
    "# TEST_FEED_ID = '18812' # Fulton County, Atlanta, GA\n",
    "TEST_FEED_ID = '14439' # One of your own choosing"
   ]
  },
  {
   "cell_type": "markdown",
   "metadata": {},
   "source": [
    "### Supply Login Credentials\n",
    "\n",
    "For the full demo, get a premium account for Broadcastify (see [User Guide: Getting through the paywall](https://ljhopkins2.github.io/broadcastify-archtk/user-guide/installation.html#getting-through-the-paywall)).\n",
    "\n",
    "Without a premium account, you can do Step 4 – but not Step 5 – of the demo.\n",
    "\n",
    "\n",
    "Once you have your Broadcastify account set up, you have two options:\n",
    "\n",
    "**OPTION 1**. Enter your username and password directly in the cell below."
   ]
  },
  {
   "cell_type": "code",
   "execution_count": null,
   "metadata": {},
   "outputs": [],
   "source": [
    "## OPTION 1: Enter a username & password for a valid Broadcastify premium account below\n",
    "\n",
    "USERNAME = None\n",
    "PASSWORD = None"
   ]
  },
  {
   "cell_type": "markdown",
   "metadata": {},
   "source": [
    "**OPTION 2**. Create a configuration file (see [User Guide: Password configuration files](https://ljhopkins2.github.io/broadcastify-archtk/user-guide/creating-an-archive.html#password-configuration-files)) and supply the absolute path to the file"
   ]
  },
  {
   "cell_type": "code",
   "execution_count": null,
   "metadata": {},
   "outputs": [],
   "source": [
    "## OPTION 2: Create a password configuration file, and supply the link below\n",
    "\n",
    "login_path = '/Users/joseph/data_science/personal_projects/broadcastify-archtk/private/pwd.ini'"
   ]
  },
  {
   "cell_type": "markdown",
   "metadata": {},
   "source": [
    "### Instantiate a `BroadcastifyArchive` object"
   ]
  },
  {
   "cell_type": "code",
   "execution_count": null,
   "metadata": {},
   "outputs": [],
   "source": [
    "archive = btk.BroadcastifyArchive(TEST_FEED_ID, \n",
    "                                  login_cfg_path=login_path, \n",
    "                                  username=USERNAME, \n",
    "                                  password=PASSWORD\n",
    "                                  webdriver_path=webdriver_path)"
   ]
  },
  {
   "cell_type": "markdown",
   "metadata": {},
   "source": [
    "## Build the Archive\n",
    "\n",
    "[User Guide: Building the archive](https://ljhopkins2.github.io/broadcastify-archtk/user-guide/building-the-archive.html#building-the-archive)\n",
    "\n",
    "The code below will build the archive for a one-week period starting 10 days ago."
   ]
  },
  {
   "cell_type": "code",
   "execution_count": null,
   "metadata": {},
   "outputs": [],
   "source": [
    "# Build the archive for 3-10 days ago\n",
    "start_date = (dt.datetime.now() - dt.timedelta(days=10)).date()\n",
    "end_date = (dt.datetime.now() - dt.timedelta(days=3)).date()\n",
    "\n",
    "archive.build(start=start_date, end=end_date)"
   ]
  },
  {
   "cell_type": "markdown",
   "metadata": {},
   "source": [
    "## Download Audio Files\n",
    "\n",
    "[User Guide: Downloading audio files](https://ljhopkins2.github.io/broadcastify-archtk/user-guide/downloading-audio-files.html#downloading-audio-files)\n",
    "\n",
    "Fill in the absolute path to the directory you'll store the downloaded audio files in."
   ]
  },
  {
   "cell_type": "code",
   "execution_count": null,
   "metadata": {},
   "outputs": [],
   "source": [
    "mp3_path =  '/Users/joseph/data_science/personal_projects/broadcastify-archtk/testing/mp3_downloads/'"
   ]
  },
  {
   "cell_type": "markdown",
   "metadata": {},
   "source": [
    "The code below will download audio files from 10p on the second-to-last day of the built archive through 2a the next morning."
   ]
  },
  {
   "cell_type": "code",
   "execution_count": null,
   "metadata": {},
   "outputs": [],
   "source": [
    "# Download the mp3s for 10p-2a starting on the second-to-last day of the archive \n",
    "download_start_time = dt.datetime.combine(end_date - dt.timedelta(days=1), dt.datetime(1,1,1,22,0).time())\n",
    "download_end_time = dt.datetime.combine(end_date, dt.datetime(1,1,1,2,0).time())\n",
    "\n",
    "archive.download(start=download_start_time, end=download_end_time, output_path=mp3_path)"
   ]
  },
  {
   "cell_type": "markdown",
   "metadata": {},
   "source": [
    "## Experiment a bit\n",
    "\n",
    "When you change the `feed_id`, the object resets for the new feed."
   ]
  },
  {
   "cell_type": "code",
   "execution_count": null,
   "metadata": {},
   "outputs": [],
   "source": [
    "# Change the feed_id by uncommenting one of the following lines\n",
    "# NEW_FEED_ID = '14439' # Travis County, Austin, TX\n",
    "# NEW_FEED_ID = '18812' # Fulton County, Atlanta, GA -- home precinct\n",
    "\n",
    "archive.feed_id = NEW_FEED_ID"
   ]
  },
  {
   "cell_type": "markdown",
   "metadata": {},
   "source": [
    "----"
   ]
  }
 ],
 "metadata": {
  "kernelspec": {
   "display_name": "Python 3",
   "language": "python",
   "name": "python3"
  },
  "language_info": {
   "codemirror_mode": {
    "name": "ipython",
    "version": 3
   },
   "file_extension": ".py",
   "mimetype": "text/x-python",
   "name": "python",
   "nbconvert_exporter": "python",
   "pygments_lexer": "ipython3",
   "version": "3.7.3"
  },
  "toc": {
   "base_numbering": 1,
   "nav_menu": {},
   "number_sections": true,
   "sideBar": true,
   "skip_h1_title": true,
   "title_cell": "Table of Contents",
   "title_sidebar": "Contents",
   "toc_cell": false,
   "toc_position": {},
   "toc_section_display": true,
   "toc_window_display": false
  },
  "varInspector": {
   "cols": {
    "lenName": 16,
    "lenType": 16,
    "lenVar": 40
   },
   "kernels_config": {
    "python": {
     "delete_cmd_postfix": "",
     "delete_cmd_prefix": "del ",
     "library": "var_list.py",
     "varRefreshCmd": "print(var_dic_list())"
    },
    "r": {
     "delete_cmd_postfix": ") ",
     "delete_cmd_prefix": "rm(",
     "library": "var_list.r",
     "varRefreshCmd": "cat(var_dic_list()) "
    }
   },
   "types_to_exclude": [
    "module",
    "function",
    "builtin_function_or_method",
    "instance",
    "_Feature"
   ],
   "window_display": false
  }
 },
 "nbformat": 4,
 "nbformat_minor": 2
}
