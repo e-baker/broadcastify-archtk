{
 "cells": [
  {
   "cell_type": "code",
   "execution_count": 1,
   "metadata": {},
   "outputs": [],
   "source": [
    "import bart_v1\n",
    "from datetime import datetime"
   ]
  },
  {
   "cell_type": "code",
   "execution_count": 2,
   "metadata": {},
   "outputs": [],
   "source": [
    "# TEST_FEED_ID = '763' # \"This is Sgt. Peterson, Chicago Police\" (top listened-to feed!)\n",
    "# TEST_FEED_ID = '14439' # Travis County, Austin, TX\n",
    "TEST_FEED_ID = '18812' # Fulton County, Atlanta, GA\n",
    "# TEST_FEED_ID = '19807' # Lackawanna County, Scranton, PA"
   ]
  },
  {
   "cell_type": "code",
   "execution_count": 3,
   "metadata": {},
   "outputs": [],
   "source": [
    "archive = bart_v1.BroadcastifyArchive(TEST_FEED_ID)"
   ]
  },
  {
   "cell_type": "code",
   "execution_count": 4,
   "metadata": {
    "code_folding": []
   },
   "outputs": [],
   "source": [
    "# # Import pickle\n",
    "\n",
    "# import pickle\n",
    "# with open('testing/sample_archive_entries.pkl', 'rb') as pickle_in:\n",
    "#     sample_archive_entries = pickle.load(pickle_in)\n",
    "    \n",
    "# archive.entries = sample_archive_entries"
   ]
  },
  {
   "cell_type": "code",
   "execution_count": 5,
   "metadata": {
    "scrolled": true
   },
   "outputs": [
    {
     "data": {
      "text/plain": [
       "BroadcastifyArchive\n",
       " (0 entries\n",
       "  feed_id = 18812\n",
       "  feed_name = Atlanta Police Zone 5 and Fire Dispatch\n",
       "  start date: None\n",
       "  end date:   None\n",
       "  username = \"cwchiu\", pwd = [True]\n",
       "  feed_url = \"https://www.broadcastify.com/listen/feed/18812\"\n",
       "  archive_url = \"https://www.broadcastify.com/archives/feed/18812\"\n",
       "  verbose = True)"
      ]
     },
     "execution_count": 5,
     "metadata": {},
     "output_type": "execute_result"
    }
   ],
   "source": [
    "archive"
   ]
  },
  {
   "cell_type": "code",
   "execution_count": 6,
   "metadata": {},
   "outputs": [],
   "source": [
    "# archive.show_browser_ui = True"
   ]
  },
  {
   "cell_type": "code",
   "execution_count": 7,
   "metadata": {},
   "outputs": [
    {
     "name": "stdout",
     "output_type": "stream",
     "text": [
      "Closing browser...\n",
      "Archive build complete.\n",
      "BroadcastifyArchive\n",
      " (251 entries\n",
      "  feed_id = 18812\n",
      "  feed_name = Atlanta Police Zone 5 and Fire Dispatch\n",
      "  start date: 2019-10-19 00:11:00\n",
      "  end date:   2019-10-24 14:04:00\n",
      "  username = \"cwchiu\", pwd = [True]\n",
      "  feed_url = \"https://www.broadcastify.com/listen/feed/18812\"\n",
      "  archive_url = \"https://www.broadcastify.com/archives/feed/18812\"\n",
      "  verbose = True)\n"
     ]
    }
   ],
   "source": [
    "archive.build(5)"
   ]
  },
  {
   "cell_type": "code",
   "execution_count": 8,
   "metadata": {
    "scrolled": false
   },
   "outputs": [
    {
     "name": "stdout",
     "output_type": "stream",
     "text": [
      "Retrieving list of ArchiveEntries...\n",
      " no earlier than 2019-10-19 20:00:00\n",
      " no later than   2019-10-19 22:00:00\n",
      "\n",
      "4 ArchiveEntries matched.\n",
      "Downloading 1 of 4\n",
      "\tfrom https://garchives1.broadcastify.com/18812/20191020/201910202004-174873-18812.mp3\n",
      "\tto ./testing/mp3_downloads/18812-20191019-2134.mp3\n",
      "Downloading 2 of 4\n",
      "\tfrom https://garchives1.broadcastify.com/18812/20191020/201910201934-625668-18812.mp3\n",
      "\tto ./testing/mp3_downloads/18812-20191019-2104.mp3\n",
      "Downloading 3 of 4\n",
      "\tfrom https://garchives1.broadcastify.com/18812/20191020/201910201904-900477-18812.mp3\n",
      "\tto ./testing/mp3_downloads/18812-20191019-2034.mp3\n",
      "Downloading 4 of 4\n",
      "\tfrom https://garchives1.broadcastify.com/18812/20191020/201910201834-69249-18812.mp3\n",
      "\tto ./testing/mp3_downloads/18812-20191019-2004.mp3\n",
      "\n",
      "Downloads complete.\n",
      "\n",
      "Retrieved 4 files in 18.8171 seconds.\n"
     ]
    }
   ],
   "source": [
    "archive.download(start=datetime(2019,10,19,20,0), end=datetime(2019,10,19,22,0))"
   ]
  },
  {
   "cell_type": "code",
   "execution_count": null,
   "metadata": {},
   "outputs": [],
   "source": []
  },
  {
   "cell_type": "code",
   "execution_count": null,
   "metadata": {},
   "outputs": [],
   "source": []
  },
  {
   "cell_type": "code",
   "execution_count": null,
   "metadata": {},
   "outputs": [],
   "source": []
  },
  {
   "cell_type": "code",
   "execution_count": null,
   "metadata": {},
   "outputs": [],
   "source": []
  },
  {
   "cell_type": "code",
   "execution_count": null,
   "metadata": {
    "code_folding": []
   },
   "outputs": [],
   "source": [
    "# # Export pickle\n",
    "# #\n",
    "# import pickle\n",
    "\n",
    "# sample_archive_entries = archive.entries\n",
    "\n",
    "# with open('testing/sample_archive_entries.pkl','wb') as pickle_out:\n",
    "#     pickle.dump(sample_archive_entries, pickle_out)"
   ]
  },
  {
   "cell_type": "markdown",
   "metadata": {},
   "source": [
    "----"
   ]
  }
 ],
 "metadata": {
  "kernelspec": {
   "display_name": "Python 3",
   "language": "python",
   "name": "python3"
  },
  "language_info": {
   "codemirror_mode": {
    "name": "ipython",
    "version": 3
   },
   "file_extension": ".py",
   "mimetype": "text/x-python",
   "name": "python",
   "nbconvert_exporter": "python",
   "pygments_lexer": "ipython3",
   "version": "3.7.3"
  },
  "toc": {
   "base_numbering": 1,
   "nav_menu": {},
   "number_sections": false,
   "sideBar": true,
   "skip_h1_title": true,
   "title_cell": "Table of Contents",
   "title_sidebar": "Contents",
   "toc_cell": false,
   "toc_position": {},
   "toc_section_display": true,
   "toc_window_display": false
  },
  "varInspector": {
   "cols": {
    "lenName": 16,
    "lenType": 16,
    "lenVar": 40
   },
   "kernels_config": {
    "python": {
     "delete_cmd_postfix": "",
     "delete_cmd_prefix": "del ",
     "library": "var_list.py",
     "varRefreshCmd": "print(var_dic_list())"
    },
    "r": {
     "delete_cmd_postfix": ") ",
     "delete_cmd_prefix": "rm(",
     "library": "var_list.r",
     "varRefreshCmd": "cat(var_dic_list()) "
    }
   },
   "types_to_exclude": [
    "module",
    "function",
    "builtin_function_or_method",
    "instance",
    "_Feature"
   ],
   "window_display": false
  }
 },
 "nbformat": 4,
 "nbformat_minor": 2
}
