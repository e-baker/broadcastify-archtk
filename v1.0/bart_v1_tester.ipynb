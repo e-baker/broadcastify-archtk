{
 "cells": [
  {
   "cell_type": "code",
   "execution_count": 1,
   "metadata": {},
   "outputs": [],
   "source": [
    "import bart_v1\n",
    "import datetime as dt"
   ]
  },
  {
   "cell_type": "code",
   "execution_count": 2,
   "metadata": {},
   "outputs": [],
   "source": [
    "# TEST_FEED_ID = '763' # \"This is Sgt. Peterson, Chicago Police\" (top listened-to feed!)\n",
    "TEST_FEED_ID = '14439' # Travis County, Austin, TX\n",
    "# TEST_FEED_ID = '18812' # Fulton County, Atlanta, GA\n",
    "# TEST_FEED_ID = '19807' # Lackawanna County, Scranton, PA"
   ]
  },
  {
   "cell_type": "code",
   "execution_count": 3,
   "metadata": {},
   "outputs": [
    {
     "name": "stdout",
     "output_type": "stream",
     "text": [
      "Initializing archive navigation...\n",
      "\tOpening browser...\n",
      "\tLoading navigation page...\n",
      "\tLooking for archive start date...\n",
      "\tFound start date at 2019-01-28.\n",
      "Initialization complete.\n",
      "\n",
      "BroadcastifyArchive\n",
      " (Feed ID = 14439\n",
      "  Feed Name = Travis County Law Enforcement\n",
      "  Feed URL = \"https://www.broadcastify.com/listen/feed/14439\"\n",
      "  Archive URL = \"https://www.broadcastify.com/archives/feed/14439\"\n",
      "  Start Date: 2019-01-28\n",
      "  End Date:   2019-10-31\n",
      "  Username = \"cwchiu\" Password = [True]\n",
      "  0 parsed archive entries between None and None\n",
      "  Verbose = True)\n"
     ]
    }
   ],
   "source": [
    "archive = bart_v1.BroadcastifyArchive(TEST_FEED_ID, show_browser_ui=False)"
   ]
  },
  {
   "cell_type": "code",
   "execution_count": 4,
   "metadata": {
    "scrolled": true
   },
   "outputs": [
    {
     "name": "stdout",
     "output_type": "stream",
     "text": [
      "Archive build complete.\n",
      "\n",
      "BroadcastifyArchive\n",
      " (Feed ID = 14439\n",
      "  Feed Name = Travis County Law Enforcement\n",
      "  Feed URL = \"https://www.broadcastify.com/listen/feed/14439\"\n",
      "  Archive URL = \"https://www.broadcastify.com/archives/feed/14439\"\n",
      "  Start Date: 2019-01-28\n",
      "  End Date:   2019-10-31\n",
      "  Username = \"cwchiu\" Password = [True]\n",
      "  13238 parsed archive entries between 2019-01-28 and 2019-10-31\n",
      "  Verbose = True)\n"
     ]
    }
   ],
   "source": [
    "archive.build()"
   ]
  },
  {
   "cell_type": "code",
   "execution_count": 9,
   "metadata": {},
   "outputs": [
    {
     "name": "stdout",
     "output_type": "stream",
     "text": [
      "\n",
      "2 archive entries matched.\n",
      "Downloading 1 of 2\n",
      "\tfrom https://garchives1.broadcastify.com/14439/20191027/201910272128-229346-14439.mp3\n",
      "\tto ./testing/mp3_downloads/14439-20191027-2135.mp3\n",
      "Downloading 2 of 2\n",
      "\tfrom https://garchives1.broadcastify.com/14439/20191027/201910272028-597067-14439.mp3\n",
      "\tto ./testing/mp3_downloads/14439-20191027-2058.mp3\n",
      "\n",
      "Downloads complete.\n",
      "\n",
      "Retrieved 2 files in 10.1703 seconds.\n"
     ]
    }
   ],
   "source": [
    "archive.download(start=dt.datetime(2019,10,27,20,0), end=dt.datetime(2019,10,27,22,0))"
   ]
  },
  {
   "cell_type": "markdown",
   "metadata": {},
   "source": [
    "---"
   ]
  },
  {
   "cell_type": "code",
   "execution_count": null,
   "metadata": {},
   "outputs": [],
   "source": [
    "archive.entries"
   ]
  },
  {
   "cell_type": "markdown",
   "metadata": {},
   "source": [
    "----"
   ]
  },
  {
   "cell_type": "code",
   "execution_count": 7,
   "metadata": {
    "code_folding": []
   },
   "outputs": [],
   "source": [
    "# # Import pickle\n",
    "\n",
    "# import pickle\n",
    "# with open('testing/sample_archive_entries.pkl', 'rb') as pickle_in:\n",
    "#     sample_archive_entries = pickle.load(pickle_in)\n",
    "    \n",
    "# archive.entries = sample_archive_entries"
   ]
  },
  {
   "cell_type": "code",
   "execution_count": 8,
   "metadata": {
    "code_folding": []
   },
   "outputs": [],
   "source": [
    "# # Export pickle\n",
    "# #\n",
    "# import pickle\n",
    "\n",
    "# sample_archive_entries = archive.entries\n",
    "\n",
    "# with open('testing/sample_archive_entries.pkl','wb') as pickle_out:\n",
    "#     pickle.dump(sample_archive_entries, pickle_out)"
   ]
  },
  {
   "cell_type": "markdown",
   "metadata": {},
   "source": [
    "----"
   ]
  }
 ],
 "metadata": {
  "kernelspec": {
   "display_name": "Python 3",
   "language": "python",
   "name": "python3"
  },
  "language_info": {
   "codemirror_mode": {
    "name": "ipython",
    "version": 3
   },
   "file_extension": ".py",
   "mimetype": "text/x-python",
   "name": "python",
   "nbconvert_exporter": "python",
   "pygments_lexer": "ipython3",
   "version": "3.7.3"
  },
  "toc": {
   "base_numbering": 1,
   "nav_menu": {},
   "number_sections": false,
   "sideBar": true,
   "skip_h1_title": true,
   "title_cell": "Table of Contents",
   "title_sidebar": "Contents",
   "toc_cell": false,
   "toc_position": {},
   "toc_section_display": true,
   "toc_window_display": false
  },
  "varInspector": {
   "cols": {
    "lenName": 16,
    "lenType": 16,
    "lenVar": 40
   },
   "kernels_config": {
    "python": {
     "delete_cmd_postfix": "",
     "delete_cmd_prefix": "del ",
     "library": "var_list.py",
     "varRefreshCmd": "print(var_dic_list())"
    },
    "r": {
     "delete_cmd_postfix": ") ",
     "delete_cmd_prefix": "rm(",
     "library": "var_list.r",
     "varRefreshCmd": "cat(var_dic_list()) "
    }
   },
   "types_to_exclude": [
    "module",
    "function",
    "builtin_function_or_method",
    "instance",
    "_Feature"
   ],
   "window_display": false
  }
 },
 "nbformat": 4,
 "nbformat_minor": 2
}
