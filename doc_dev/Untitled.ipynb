{
 "cells": [
  {
   "cell_type": "markdown",
   "metadata": {},
   "source": [
    "# <span style=\"font-size:larger;\"><i>B</i></span>roadcastify <span style=\"font-size:larger;\"><i>AR</i></span>chive <span style=\"font-size:larger;\"><i>T</i></span>oolkit<br>Documentation\n",
    "\n",
    "**Version 0.1**\n",
    "\n",
    "## <span style=\"color:red\">**DOCUMENTATION UNDER DEVELOPMENT**</span>\n",
    "\n",
    "**_This project is just getting under way. A minimal level of documentation is included in the `.py` file. Stay tuned for user documentation._**\n",
    "\n",
    "\n",
    "## Preface\n",
    "\n",
    "The Broadcastify Archive Tool (BArT) automates downloading audio archives from [Broadcastify](www.broadcastify.com), \"the world's largest source of Public Safety, Airline, Rail, and Marine live audio streams\".\n",
    "\n",
    "BArT was initially developed as part of a group project during a [General Assembly Data Science Immersive program](https://generalassemb.ly/education/data-science-immersive/), in response to a client's need to visualize the locations to which first responders were being dispatched during an emergency. We sought out a large repository of emergency radio dispatches to train our audio-to-text-to-geolocation algorithm.\n",
    "\n",
    "Although Broadcastify's archive was the clear winner in terms of breadth and depth for this data, the lack of an API for downloading audio files meant that the process for acquiring the archive files highly manual and time-consuming. BArT solves that problem.\n",
    "\n",
    "## Quick-start Guide\n",
    "\n",
    "If you want quickly make use of BArT in your own Jupyter Notebook, this section is for you!\n",
    "\n",
    "1. **Copy library and config files.** You'll need the source code and config initializer.\n",
    "    - Put `bart.py` and `config.ini` into the directory with your `.ipynb` file<br><br>\n",
    "\n",
    "1. **Install selenium**. Selenium is a browser emulator used to interact with Broadcastify's archive navigation tools.\n",
    "    - Install with `pip install -U selenium`<br><br>\n",
    "    \n",
    "1. **Get a browser driver**. Selenium requires a driver to interface with your chosen browser. All testing for BArT is done with the Chrome browser driver (currently v76.0)\n",
    "    - Install [Chrome's browser driver](https://sites.google.com/a/chromium.org/chromedriver/downloads), or the browser of your choice (see [the list on the selenium pyPI page](https://pypi.org/project/selenium/)\n",
    "    - You must either \n",
    "      1. ensure the driver is in your computer's `PATH` (here's [a great resource for Mac users](https://www.architectryan.com/2012/10/02/add-to-the-path-on-mac-os-x-mountain-lion/#.Uydjga1dXDg) on that front) OR\n",
    "      1. supply a relative path to the driver (including driver name) in `config.ini` > `[selenium_config]` > `WEBDRIVER_PATH`.<br><br>\n",
    "\n",
    "1. **Fulfill dependencies**. Ensure you've installed and upgraded the following Python libraries:\n",
    "    - `BeautifulSoup`\n",
    "    - `collections`\n",
    "    - `configparser`\n",
    "    - `datetime`\n",
    "    - `IPython.display`\n",
    "    - `os`\n",
    "    - `re`\n",
    "    - `requests`\n",
    "    - `time`\n",
    "\n",
    "\n",
    "## Object Model\n",
    "\n",
    "\n"
   ]
  },
  {
   "cell_type": "markdown",
   "metadata": {},
   "source": [
    "-----"
   ]
  }
 ],
 "metadata": {
  "kernelspec": {
   "display_name": "Python 3",
   "language": "python",
   "name": "python3"
  },
  "language_info": {
   "codemirror_mode": {
    "name": "ipython",
    "version": 3
   },
   "file_extension": ".py",
   "mimetype": "text/x-python",
   "name": "python",
   "nbconvert_exporter": "python",
   "pygments_lexer": "ipython3",
   "version": "3.7.3"
  },
  "toc": {
   "base_numbering": 1,
   "nav_menu": {},
   "number_sections": false,
   "sideBar": true,
   "skip_h1_title": true,
   "title_cell": "Table of Contents",
   "title_sidebar": "Contents",
   "toc_cell": false,
   "toc_position": {},
   "toc_section_display": true,
   "toc_window_display": false
  },
  "varInspector": {
   "cols": {
    "lenName": 16,
    "lenType": 16,
    "lenVar": 40
   },
   "kernels_config": {
    "python": {
     "delete_cmd_postfix": "",
     "delete_cmd_prefix": "del ",
     "library": "var_list.py",
     "varRefreshCmd": "print(var_dic_list())"
    },
    "r": {
     "delete_cmd_postfix": ") ",
     "delete_cmd_prefix": "rm(",
     "library": "var_list.r",
     "varRefreshCmd": "cat(var_dic_list()) "
    }
   },
   "types_to_exclude": [
    "module",
    "function",
    "builtin_function_or_method",
    "instance",
    "_Feature"
   ],
   "window_display": false
  }
 },
 "nbformat": 4,
 "nbformat_minor": 2
}
