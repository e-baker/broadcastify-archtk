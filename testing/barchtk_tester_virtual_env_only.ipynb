{
 "cells": [
  {
   "cell_type": "code",
   "execution_count": null,
   "metadata": {},
   "outputs": [],
   "source": [
    "from broadcastify_archtk import BroadcastifyArchive\n",
    "import datetime as dt"
   ]
  },
  {
   "cell_type": "code",
   "execution_count": null,
   "metadata": {},
   "outputs": [],
   "source": [
    "TEST_FEED_ID = '14439' # Travis County, Austin, TX\n",
    "# TEST_FEED_ID = '18812' # Fulton County, Atlanta, GA (dates in March 2019 have no entries)\n",
    "# TEST_FEED_ID = '19807' # Lackawanna County, Scranton, PA (archive is no longer available)\n",
    "# TEST_FEED_ID = '198' # Invalid Feed ID"
   ]
  },
  {
   "cell_type": "code",
   "execution_count": null,
   "metadata": {},
   "outputs": [],
   "source": [
    "login_path = '/Users/joseph/data_science/personal_projects/broadcastify-archtk/private/pwd.ini'\n",
    "\n",
    "# archive = BroadcastifyArchive(TEST_FEED_ID, username='ljhopkins2', password='S7!z2jHBuS6GBnR')\n",
    "# archive = BroadcastifyArchive(TEST_FEED_ID, username='foo', password='bar')\n",
    "archive = BroadcastifyArchive(\n",
    "    TEST_FEED_ID,\n",
    "    login_cfg_path=login_path\n",
    ")"
   ]
  },
  {
   "cell_type": "code",
   "execution_count": null,
   "metadata": {
    "scrolled": false
   },
   "outputs": [],
   "source": [
    "archive.build(days_back=7, rebuild=True)"
   ]
  },
  {
   "cell_type": "code",
   "execution_count": null,
   "metadata": {},
   "outputs": [],
   "source": [
    "mp3_path = '/Users/joseph/data_science/personal_projects/broadcastify-archtk/testing/mp3_downloads/'\n",
    "\n",
    "archive.download(start=dt.datetime(2019,10,31,20,0), end=dt.datetime(2019,11,1,2,0),\n",
    "                output_path=mp3_path)"
   ]
  },
  {
   "cell_type": "markdown",
   "metadata": {},
   "source": [
    "---"
   ]
  },
  {
   "cell_type": "code",
   "execution_count": null,
   "metadata": {},
   "outputs": [],
   "source": [
    "archive"
   ]
  },
  {
   "cell_type": "code",
   "execution_count": null,
   "metadata": {},
   "outputs": [],
   "source": [
    "archive.feed_id = TEST_FEED_ID = '18812'"
   ]
  },
  {
   "cell_type": "markdown",
   "metadata": {},
   "source": [
    "----"
   ]
  }
 ],
 "metadata": {
  "kernelspec": {
   "display_name": "Python 3",
   "language": "python",
   "name": "python3"
  },
  "language_info": {
   "codemirror_mode": {
    "name": "ipython",
    "version": 3
   },
   "file_extension": ".py",
   "mimetype": "text/x-python",
   "name": "python",
   "nbconvert_exporter": "python",
   "pygments_lexer": "ipython3",
   "version": "3.7.3"
  },
  "toc": {
   "base_numbering": 1,
   "nav_menu": {},
   "number_sections": false,
   "sideBar": true,
   "skip_h1_title": true,
   "title_cell": "Table of Contents",
   "title_sidebar": "Contents",
   "toc_cell": false,
   "toc_position": {},
   "toc_section_display": true,
   "toc_window_display": false
  },
  "varInspector": {
   "cols": {
    "lenName": 16,
    "lenType": 16,
    "lenVar": 40
   },
   "kernels_config": {
    "python": {
     "delete_cmd_postfix": "",
     "delete_cmd_prefix": "del ",
     "library": "var_list.py",
     "varRefreshCmd": "print(var_dic_list())"
    },
    "r": {
     "delete_cmd_postfix": ") ",
     "delete_cmd_prefix": "rm(",
     "library": "var_list.r",
     "varRefreshCmd": "cat(var_dic_list()) "
    }
   },
   "types_to_exclude": [
    "module",
    "function",
    "builtin_function_or_method",
    "instance",
    "_Feature"
   ],
   "window_display": false
  }
 },
 "nbformat": 4,
 "nbformat_minor": 2
}
