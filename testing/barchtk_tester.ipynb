{
 "cells": [
  {
   "cell_type": "code",
   "execution_count": 1,
   "metadata": {},
   "outputs": [],
   "source": [
    "import sys\n",
    "import os\n",
    "sys.path.insert(1, '/Users/joseph/data_science/personal_projects/broadcastify-archtk/code/')"
   ]
  },
  {
   "cell_type": "code",
   "execution_count": 2,
   "metadata": {},
   "outputs": [],
   "source": [
    "# from broadcastify_archtk import BroadcastifyArchive\n",
    "from broadcastify_archtk import BroadcastifyArchive\n",
    "import datetime as dt"
   ]
  },
  {
   "cell_type": "code",
   "execution_count": 3,
   "metadata": {},
   "outputs": [],
   "source": [
    "TEST_FEED_ID = '14439' # Travis County, Austin, TX\n",
    "# TEST_FEED_ID = '18812' # Fulton County, Atlanta, GA (dates in March 2019 have no entries)\n",
    "# TEST_FEED_ID = '19807' # Lackawanna County, Scranton, PA (archive is no longer available)\n",
    "# TEST_FEED_ID = '198' # Invalid Feed ID"
   ]
  },
  {
   "cell_type": "code",
   "execution_count": 4,
   "metadata": {},
   "outputs": [
    {
     "name": "stdout",
     "output_type": "stream",
     "text": [
      "Initializing calendar navigation for Travis County Law Enforcement...\n",
      "Initialization complete.\n",
      "\n",
      "BroadcastifyArchive\n",
      " (Feed ID = 14439\n",
      "  Feed Name = Travis County Law Enforcement\n",
      "  Feed URL = \"https://www.broadcastify.com/listen/feed/14439\"\n",
      "  Archive URL = \"https://www.broadcastify.com/archives/feed/14439\"\n",
      "  Start Date: 2019-01-28\n",
      "  End Date:   2019-12-04\n",
      "  Username = \"cwchiu\" Password = [True]\n",
      "  0 built archive entries \n"
     ]
    }
   ],
   "source": [
    "login_path = '/Users/joseph/data_science/personal_projects/broadcastify-archtk/private/pwd.ini'\n",
    "# driver_path = '/Users/joseph/GA-DSI/projects/project_5/police-radio-to-mapping/assets/chromedriver'\n",
    "# archive = BroadcastifyArchive(TEST_FEED_ID, username='ljhopkins2', password='S7!z2jHBuS6GBnR')\n",
    "# archive = BroadcastifyArchive(TEST_FEED_ID, username='foo', password='bar')\n",
    "archive = BroadcastifyArchive(\n",
    "    TEST_FEED_ID,\n",
    "    login_cfg_path=login_path,\n",
    "#     webdriver_path=driver_path\n",
    ")"
   ]
  },
  {
   "cell_type": "code",
   "execution_count": 5,
   "metadata": {
    "scrolled": false
   },
   "outputs": [
    {
     "name": "stdout",
     "output_type": "stream",
     "text": [
      "Launching webdriver...\n"
     ]
    },
    {
     "data": {
      "application/vnd.jupyter.widget-view+json": {
       "model_id": "7330a232e9ea425b8a41f84df6cd82d6",
       "version_major": 2,
       "version_minor": 0
      },
      "text/plain": [
       "HBox(children=(IntProgress(value=0, description='Building dates', layout=Layout(flex='2'), max=8, style=Progre…"
      ]
     },
     "metadata": {},
     "output_type": "display_data"
    },
    {
     "name": "stdout",
     "output_type": "stream",
     "text": [
      "\n",
      "BroadcastifyArchive\n",
      " (Feed ID = 14439\n",
      "  Feed Name = Travis County Law Enforcement\n",
      "  Feed URL = \"https://www.broadcastify.com/listen/feed/14439\"\n",
      "  Archive URL = \"https://www.broadcastify.com/archives/feed/14439\"\n",
      "  Start Date: 2019-01-28\n",
      "  End Date:   2019-12-04\n",
      "  Username = \"cwchiu\" Password = [True]\n",
      "  368 built archive entries between 2019-11-27 and 2019-12-04\n"
     ]
    }
   ],
   "source": [
    "archive.build(days_back=7, rebuild=True)"
   ]
  },
  {
   "cell_type": "code",
   "execution_count": 6,
   "metadata": {},
   "outputs": [
    {
     "data": {
      "application/vnd.jupyter.widget-view+json": {
       "model_id": "77b009360292425fabdbd9a6f868d0e9",
       "version_major": 2,
       "version_minor": 0
      },
      "text/plain": [
       "HBox(children=(IntProgress(value=0, description='Overall progress', layout=Layout(flex='2'), max=11, style=Pro…"
      ]
     },
     "metadata": {},
     "output_type": "display_data"
    },
    {
     "name": "stdout",
     "output_type": "stream",
     "text": [
      "\r",
      "Downloading 11-27-19 20:13 to 11-28-19 01:11\n",
      "\r",
      "Storing at /Users/joseph/data_science/personal_projects/broadcastify-archtk/testing/mp3_downloads/.\n"
     ]
    },
    {
     "data": {
      "application/vnd.jupyter.widget-view+json": {
       "model_id": "cee49ce0946247a59aa4a67a0b934378",
       "version_major": 2,
       "version_minor": 0
      },
      "text/plain": [
       "HBox(children=(IntProgress(value=0, description='Downloading 201911280111-766223-14439.mp3', layout=Layout(fle…"
      ]
     },
     "metadata": {},
     "output_type": "display_data"
    },
    {
     "data": {
      "application/vnd.jupyter.widget-view+json": {
       "model_id": "c74b1ef343844fe5a2b2be49230b1c8b",
       "version_major": 2,
       "version_minor": 0
      },
      "text/plain": [
       "HBox(children=(IntProgress(value=0, description='Downloading 201911280041-782722-14439.mp3', layout=Layout(fle…"
      ]
     },
     "metadata": {},
     "output_type": "display_data"
    },
    {
     "data": {
      "application/vnd.jupyter.widget-view+json": {
       "model_id": "6874a180ba5f438ebadb3de6793b6e47",
       "version_major": 2,
       "version_minor": 0
      },
      "text/plain": [
       "HBox(children=(IntProgress(value=0, description='Downloading 201911280011-562473-14439.mp3', layout=Layout(fle…"
      ]
     },
     "metadata": {},
     "output_type": "display_data"
    },
    {
     "data": {
      "application/vnd.jupyter.widget-view+json": {
       "model_id": "30d11a466a924dfa853cdeaa1492a703",
       "version_major": 2,
       "version_minor": 0
      },
      "text/plain": [
       "HBox(children=(IntProgress(value=0, description='Downloading 201911272342-397466-14439.mp3', layout=Layout(fle…"
      ]
     },
     "metadata": {},
     "output_type": "display_data"
    },
    {
     "data": {
      "application/vnd.jupyter.widget-view+json": {
       "model_id": "f1d15d0de5ad4b4bafb6433d3ac7b289",
       "version_major": 2,
       "version_minor": 0
      },
      "text/plain": [
       "HBox(children=(IntProgress(value=0, description='Downloading 201911272312-394404-14439.mp3', layout=Layout(fle…"
      ]
     },
     "metadata": {},
     "output_type": "display_data"
    },
    {
     "data": {
      "application/vnd.jupyter.widget-view+json": {
       "model_id": "d771e4e66ecd47aa84a48545fc2ab5c2",
       "version_major": 2,
       "version_minor": 0
      },
      "text/plain": [
       "HBox(children=(IntProgress(value=0, description='Downloading 201911272242-88484-14439.mp3', layout=Layout(flex…"
      ]
     },
     "metadata": {},
     "output_type": "display_data"
    },
    {
     "data": {
      "application/vnd.jupyter.widget-view+json": {
       "model_id": "c656644edd704979b3889af159fb142f",
       "version_major": 2,
       "version_minor": 0
      },
      "text/plain": [
       "HBox(children=(IntProgress(value=0, description='Downloading 201911272212-920081-14439.mp3', layout=Layout(fle…"
      ]
     },
     "metadata": {},
     "output_type": "display_data"
    },
    {
     "data": {
      "application/vnd.jupyter.widget-view+json": {
       "model_id": "0edf220ec41f45c79628d4d5730f9c93",
       "version_major": 2,
       "version_minor": 0
      },
      "text/plain": [
       "HBox(children=(IntProgress(value=0, description='Downloading 201911272142-261171-14439.mp3', layout=Layout(fle…"
      ]
     },
     "metadata": {},
     "output_type": "display_data"
    },
    {
     "data": {
      "application/vnd.jupyter.widget-view+json": {
       "model_id": "f884d20a92604b7c923b5bdc4b896d0d",
       "version_major": 2,
       "version_minor": 0
      },
      "text/plain": [
       "HBox(children=(IntProgress(value=0, description='Downloading 201911272112-958002-14439.mp3', layout=Layout(fle…"
      ]
     },
     "metadata": {},
     "output_type": "display_data"
    },
    {
     "data": {
      "application/vnd.jupyter.widget-view+json": {
       "model_id": "104003fa734447489a217377f20aef63",
       "version_major": 2,
       "version_minor": 0
      },
      "text/plain": [
       "HBox(children=(IntProgress(value=0, description='Downloading 201911272043-616476-14439.mp3', layout=Layout(fle…"
      ]
     },
     "metadata": {},
     "output_type": "display_data"
    },
    {
     "data": {
      "application/vnd.jupyter.widget-view+json": {
       "model_id": "f1dc03cb3ba04a52b14ad9a87b2c598f",
       "version_major": 2,
       "version_minor": 0
      },
      "text/plain": [
       "HBox(children=(IntProgress(value=0, description='Downloading 201911272013-943159-14439.mp3', layout=Layout(fle…"
      ]
     },
     "metadata": {},
     "output_type": "display_data"
    },
    {
     "name": "stdout",
     "output_type": "stream",
     "text": [
      "\n"
     ]
    }
   ],
   "source": [
    "mp3_path = '/Users/joseph/data_science/personal_projects/broadcastify-archtk/testing/mp3_downloads/'\n",
    "\n",
    "archive.download(start=dt.datetime(2019,11,27,20,0), end=dt.datetime(2019,11,28,2,0),\n",
    "                output_path=mp3_path)"
   ]
  },
  {
   "cell_type": "markdown",
   "metadata": {},
   "source": [
    "---"
   ]
  },
  {
   "cell_type": "code",
   "execution_count": null,
   "metadata": {},
   "outputs": [],
   "source": [
    "archive"
   ]
  },
  {
   "cell_type": "code",
   "execution_count": null,
   "metadata": {},
   "outputs": [],
   "source": [
    "archive.feed_id = TEST_FEED_ID = '18812'"
   ]
  },
  {
   "cell_type": "markdown",
   "metadata": {},
   "source": [
    "----"
   ]
  },
  {
   "cell_type": "code",
   "execution_count": null,
   "metadata": {
    "code_folding": []
   },
   "outputs": [],
   "source": [
    "# # Export pickle\n",
    "# #\n",
    "# import pickle\n",
    "\n",
    "# sample_archive_entries = archive.entries\n",
    "\n",
    "# with open('testing/sample_archive_entries.pkl','wb') as pickle_out:\n",
    "#     pickle.dump(sample_archive_entries, pickle_out)"
   ]
  },
  {
   "cell_type": "code",
   "execution_count": null,
   "metadata": {
    "code_folding": []
   },
   "outputs": [],
   "source": [
    "# # Import pickle\n",
    "\n",
    "# import pickle\n",
    "# with open('testing/sample_archive_entries.pkl', 'rb') as pickle_in:\n",
    "#     sample_archive_entries = pickle.load(pickle_in)\n",
    "    \n",
    "# archive.entries = sample_archive_entries\n",
    "# archive.earliest_entry = min([entry['start_time'] for entry in archive.entries])\n",
    "# archive.latest_entry = max([entry['start_time'] for entry in archive.entries])"
   ]
  },
  {
   "cell_type": "code",
   "execution_count": null,
   "metadata": {},
   "outputs": [],
   "source": [
    "from bs4 import BeautifulSoup\n",
    "import requests"
   ]
  },
  {
   "cell_type": "code",
   "execution_count": null,
   "metadata": {},
   "outputs": [],
   "source": [
    "r = requests.get('https://www.broadcastify.com/login/?failed=1&redirect=https://www.broadcastify.com')"
   ]
  },
  {
   "cell_type": "code",
   "execution_count": null,
   "metadata": {},
   "outputs": [],
   "source": [
    "r.status_code"
   ]
  },
  {
   "cell_type": "code",
   "execution_count": null,
   "metadata": {},
   "outputs": [],
   "source": [
    "soup = BeautifulSoup(r.text, 'lxml')"
   ]
  },
  {
   "cell_type": "code",
   "execution_count": null,
   "metadata": {},
   "outputs": [],
   "source": [
    "soup(text='Log in Failed!')"
   ]
  },
  {
   "cell_type": "markdown",
   "metadata": {},
   "source": [
    "----"
   ]
  }
 ],
 "metadata": {
  "kernelspec": {
   "display_name": "Python 3",
   "language": "python",
   "name": "python3"
  },
  "language_info": {
   "codemirror_mode": {
    "name": "ipython",
    "version": 3
   },
   "file_extension": ".py",
   "mimetype": "text/x-python",
   "name": "python",
   "nbconvert_exporter": "python",
   "pygments_lexer": "ipython3",
   "version": "3.7.3"
  },
  "toc": {
   "base_numbering": 1,
   "nav_menu": {},
   "number_sections": false,
   "sideBar": true,
   "skip_h1_title": true,
   "title_cell": "Table of Contents",
   "title_sidebar": "Contents",
   "toc_cell": false,
   "toc_position": {},
   "toc_section_display": true,
   "toc_window_display": false
  },
  "varInspector": {
   "cols": {
    "lenName": 16,
    "lenType": 16,
    "lenVar": 40
   },
   "kernels_config": {
    "python": {
     "delete_cmd_postfix": "",
     "delete_cmd_prefix": "del ",
     "library": "var_list.py",
     "varRefreshCmd": "print(var_dic_list())"
    },
    "r": {
     "delete_cmd_postfix": ") ",
     "delete_cmd_prefix": "rm(",
     "library": "var_list.r",
     "varRefreshCmd": "cat(var_dic_list()) "
    }
   },
   "types_to_exclude": [
    "module",
    "function",
    "builtin_function_or_method",
    "instance",
    "_Feature"
   ],
   "window_display": false
  }
 },
 "nbformat": 4,
 "nbformat_minor": 2
}
