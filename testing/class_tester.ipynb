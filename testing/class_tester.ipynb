{
 "cells": [
  {
   "cell_type": "code",
   "execution_count": null,
   "metadata": {},
   "outputs": [],
   "source": [
    "import errno as _errno\n",
    "import os as _os\n",
    "import re as _re\n",
    "import requests as _requests\n",
    "import datetime as _dt\n",
    "\n",
    "from configparser import ConfigParser as _ConfigParser, \\\n",
    "                         ExtendedInterpolation as _ExtendedInterpolation\n",
    "from IPython.display import clear_output as _clear_output\n",
    "from time import time as _timer\n",
    "\n",
    "from bs4 import BeautifulSoup as _BeautifulSoup\n",
    "\n",
    "from selenium import webdriver as _webdriver\n",
    "from selenium.webdriver.support import wait as _wait\n",
    "from selenium.webdriver.common.keys import Keys as _Keys\n",
    "from selenium.webdriver.support.ui import WebDriverWait as _WebDriverWait\n",
    "from selenium.webdriver.support import expected_conditions as _EC\n",
    "from selenium.webdriver.common.by import By as _By\n",
    "from selenium.webdriver.chrome.options import Options as _Options\n",
    "from selenium.common.exceptions import NoSuchElementException as _NSEE"
   ]
  },
  {
   "cell_type": "code",
   "execution_count": null,
   "metadata": {},
   "outputs": [],
   "source": [
    "\"\"\"\n",
    "              new MutationObserver(() => {\n",
    "                window.lastRefresh = new Date()\n",
    "              }).observe(document.querySelector(\"table.table-condensed\"), {\n",
    "              childList: true, characterData: true, subtree: true, attributes: true } )\n",
    "            \"\"\"\n",
    "\n",
    "\"\"\"\n",
    "              let att_observer = new MutationObserver(() => {\n",
    "                window.lastRefresh = new Date()\n",
    "              }).observe(document.querySelector(\"table.table.table-striped.table-bordered.hover.dataTable.no-footer\"), {\n",
    "              attributes: true, childList: true, subtree: true } )\n",
    "            \"\"\""
   ]
  },
  {
   "cell_type": "code",
   "execution_count": null,
   "metadata": {},
   "outputs": [],
   "source": [
    "class _calendar_to_be_refreshed(object):\n",
    "    \"\"\"\n",
    "    A CUSTOM Selenium expectation for checking whether the calendar has been\n",
    "    refreshed.\n",
    "    \"\"\"\n",
    "    def __init__(self, active_day, displayed_month):\n",
    "        self.active_day = active_day\n",
    "        self.displayed_month = displayed_month\n",
    "\n",
    "    def __call__(self, driver):\n",
    "        is_fresh = False\n",
    "        \n",
    "#         try:\n",
    "        # Check for displayed_month changes first\n",
    "        is_fresh = driver.find_element_by_class_name('datepicker-switch').text != self.displayed_month\n",
    "\n",
    "        # If that hasn't changed...\n",
    "        if not is_fresh:\n",
    "            # ...see if the active day has\n",
    "            is_fresh = driver.find_element_by_class_name('active').text != self.active_day\n",
    "#         except:\n",
    "#             is_fresh = False\n",
    "        return is_fresh"
   ]
  },
  {
   "cell_type": "code",
   "execution_count": null,
   "metadata": {
    "code_folding": [
     0
    ]
   },
   "outputs": [],
   "source": [
    "# class _ArchiveChromeBrowser(_webdriver.Chrome):\n",
    "#     def __init__(self):\n",
    "#         super().__init__()\n",
    "#         self.last_page_refresh = None\n",
    "\n",
    "#     def get(self, url):\n",
    "#         super().get(url)\n",
    "        \n",
    "#         # Wait for page to render\n",
    "#         element = _WebDriverWait(self, 10).until(\n",
    "#                   _EC.presence_of_element_located((_By.CLASS_NAME,\n",
    "#                                                    \"cursor-link\")))\n",
    "        \n",
    "#         # Set up MutationObserver to handle consecutive dates with no data\n",
    "#         self.execute_script(\n",
    "#             \"\"\"\n",
    "#               let cal_observer = new MutationObserver(() => {\n",
    "#                 window.lastRefresh = new Date()\n",
    "#               }).observe(document.querySelector(\"table.table-condensed\"), {\n",
    "#               childList: true, characterData: true, subtree: true, attributes: true } );\n",
    "\n",
    "#               let att_observer = new MutationObserver(() => {\n",
    "#                 window.lastRefresh = new Date()\n",
    "#               }).observe(document.querySelector(\"table.table.table-striped.table-bordered.hover.dataTable.no-footer\"), {\n",
    "#               childList: true, characterData: true, subtree: true, attributes: true } );\n",
    "#             \"\"\"\n",
    "#             )\n",
    "#         # Get the last page update timestamp\n",
    "#         self._set_last_page_refresh()\n",
    "\n",
    "#     def _set_last_page_refresh(self):\n",
    "#         # Get the last update from the browser; may be None\n",
    "#         last_update = self.execute_script('return window.lastRefresh')\n",
    "\n",
    "#         if last_update:\n",
    "#             # Convert to a datetime\n",
    "#             self.last_page_refresh = _dt.datetime.strptime(last_update,\n",
    "#                                              '%Y-%m-%dT%H:%M:%S.%fZ')"
   ]
  },
  {
   "cell_type": "code",
   "execution_count": null,
   "metadata": {},
   "outputs": [],
   "source": [
    "# browser = _ArchiveChromeBrowser()"
   ]
  },
  {
   "cell_type": "code",
   "execution_count": null,
   "metadata": {},
   "outputs": [],
   "source": [
    "browser = _webdriver.Chrome()"
   ]
  },
  {
   "cell_type": "code",
   "execution_count": null,
   "metadata": {},
   "outputs": [],
   "source": [
    "browser.get('https://m.broadcastify.com/archives/feed/18812')"
   ]
  },
  {
   "cell_type": "code",
   "execution_count": null,
   "metadata": {},
   "outputs": [],
   "source": [
    "# browser.execute_script(\"\"\"\n",
    "#               new MutationObserver(() => {\n",
    "#                 window.lastRefresh = new Date()\n",
    "#               }).observe(document.querySelector(\"table.table-condensed\"), {\n",
    "#               childList: true, characterData: true, subtree: true, attributes: true } )\n",
    "#             \"\"\")"
   ]
  },
  {
   "cell_type": "code",
   "execution_count": null,
   "metadata": {
    "scrolled": false
   },
   "outputs": [],
   "source": [
    "element = _WebDriverWait(browser, 15).until(_calendar_to_be_refreshed('2', 'November 2019'))\n",
    "print(element)"
   ]
  },
  {
   "cell_type": "code",
   "execution_count": null,
   "metadata": {},
   "outputs": [],
   "source": [
    "browser._set_last_page_refresh()\n",
    "\n",
    "print(browser.last_page_refresh)"
   ]
  }
 ],
 "metadata": {
  "kernelspec": {
   "display_name": "Python 3",
   "language": "python",
   "name": "python3"
  },
  "language_info": {
   "codemirror_mode": {
    "name": "ipython",
    "version": 3
   },
   "file_extension": ".py",
   "mimetype": "text/x-python",
   "name": "python",
   "nbconvert_exporter": "python",
   "pygments_lexer": "ipython3",
   "version": "3.7.3"
  },
  "toc": {
   "base_numbering": 1,
   "nav_menu": {},
   "number_sections": false,
   "sideBar": true,
   "skip_h1_title": true,
   "title_cell": "Table of Contents",
   "title_sidebar": "Contents",
   "toc_cell": false,
   "toc_position": {},
   "toc_section_display": true,
   "toc_window_display": false
  },
  "varInspector": {
   "cols": {
    "lenName": 16,
    "lenType": 16,
    "lenVar": 40
   },
   "kernels_config": {
    "python": {
     "delete_cmd_postfix": "",
     "delete_cmd_prefix": "del ",
     "library": "var_list.py",
     "varRefreshCmd": "print(var_dic_list())"
    },
    "r": {
     "delete_cmd_postfix": ") ",
     "delete_cmd_prefix": "rm(",
     "library": "var_list.r",
     "varRefreshCmd": "cat(var_dic_list()) "
    }
   },
   "types_to_exclude": [
    "module",
    "function",
    "builtin_function_or_method",
    "instance",
    "_Feature"
   ],
   "window_display": false
  }
 },
 "nbformat": 4,
 "nbformat_minor": 2
}
